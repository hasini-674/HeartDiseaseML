{
 "cells": [
  {
   "cell_type": "markdown",
   "id": "475ab57e-1f53-4d52-8e71-137b53d89d2f",
   "metadata": {},
   "source": [
    "# Preprocessing"
   ]
  },
  {
   "cell_type": "code",
   "execution_count": 6,
   "id": "910cd769-0e76-4052-b63f-e3183c9cc0f8",
   "metadata": {},
   "outputs": [
    {
     "name": "stdout",
     "output_type": "stream",
     "text": [
      "Data preprocessing completed.\n",
      "Training set shape: (205, 13)\n",
      "Test set shape: (820, 13)\n"
     ]
    }
   ],
   "source": [
    "import pandas as pd\n",
    "import numpy as np\n",
    "from sklearn.model_selection import train_test_split\n",
    "from sklearn.preprocessing import StandardScaler\n",
    "\n",
    "# Load the Heart Disease dataset\n",
    "data = pd.read_csv('/Users/tadisinahasini/Documents/datasets/heart.csv')\n",
    "\n",
    "# Separate features and target\n",
    "X = data.drop('target', axis=1)\n",
    "y = data['target']\n",
    "\n",
    "# Split the data\n",
    "X_train, X_test, y_train, y_test = train_test_split(X, y, test_size=0.8, random_state=42)\n",
    "\n",
    "# Scale the features\n",
    "scaler = StandardScaler()\n",
    "X_train_scaled = scaler.fit_transform(X_train)\n",
    "X_test_scaled = scaler.transform(X_test)\n",
    "\n",
    "print(\"Data preprocessing completed.\")\n",
    "print(f\"Training set shape: {X_train_scaled.shape}\")\n",
    "print(f\"Test set shape: {X_test_scaled.shape}\")"
   ]
  },
  {
   "cell_type": "markdown",
   "id": "e50ff720-63cd-4592-a4d6-a6eb4555aa88",
   "metadata": {},
   "source": [
    "# Naive Bayes Model"
   ]
  },
  {
   "cell_type": "code",
   "execution_count": 7,
   "id": "99f61438-20f9-4438-9408-c4aa395cd81e",
   "metadata": {},
   "outputs": [
    {
     "name": "stdout",
     "output_type": "stream",
     "text": [
      "Naive Bayes Results:\n",
      "Accuracy: 0.8305\n",
      "\n",
      "Classification Report:\n",
      "              precision    recall  f1-score   support\n",
      "\n",
      "           0       0.85      0.80      0.82       400\n",
      "           1       0.82      0.86      0.84       420\n",
      "\n",
      "    accuracy                           0.83       820\n",
      "   macro avg       0.83      0.83      0.83       820\n",
      "weighted avg       0.83      0.83      0.83       820\n",
      "\n"
     ]
    }
   ],
   "source": [
    "from sklearn.naive_bayes import GaussianNB\n",
    "from sklearn.metrics import accuracy_score, classification_report\n",
    "\n",
    "# Initialize and train the model\n",
    "nb_model = GaussianNB()\n",
    "nb_model.fit(X_train_scaled, y_train)\n",
    "\n",
    "# Make predictions\n",
    "y_pred_nb = nb_model.predict(X_test_scaled)\n",
    "\n",
    "# Evaluate the model\n",
    "print(\"Naive Bayes Results:\")\n",
    "print(f\"Accuracy: {accuracy_score(y_test, y_pred_nb):.4f}\")\n",
    "print(\"\\nClassification Report:\")\n",
    "print(classification_report(y_test, y_pred_nb))"
   ]
  },
  {
   "cell_type": "markdown",
   "id": "0bde7931-5503-4d74-ac6c-68eecca9cf21",
   "metadata": {},
   "source": [
    "# K Nearest Neighbor Model"
   ]
  },
  {
   "cell_type": "code",
   "execution_count": 8,
   "id": "0e242fef-6122-412f-b515-010e21ab8694",
   "metadata": {},
   "outputs": [
    {
     "name": "stdout",
     "output_type": "stream",
     "text": [
      "K-Nearest Neighbors Results:\n",
      "Accuracy: 0.8341\n",
      "\n",
      "Classification Report:\n",
      "              precision    recall  f1-score   support\n",
      "\n",
      "           0       0.85      0.80      0.82       400\n",
      "           1       0.82      0.87      0.84       420\n",
      "\n",
      "    accuracy                           0.83       820\n",
      "   macro avg       0.84      0.83      0.83       820\n",
      "weighted avg       0.84      0.83      0.83       820\n",
      "\n"
     ]
    }
   ],
   "source": [
    "from sklearn.neighbors import KNeighborsClassifier\n",
    "from sklearn.metrics import accuracy_score, classification_report\n",
    "\n",
    "# Initialize and train the model\n",
    "knn_model = KNeighborsClassifier(n_neighbors=5)\n",
    "knn_model.fit(X_train_scaled, y_train)\n",
    "\n",
    "# Make predictions\n",
    "y_pred_knn = knn_model.predict(X_test_scaled)\n",
    "\n",
    "# Evaluate the model\n",
    "print(\"K-Nearest Neighbors Results:\")\n",
    "print(f\"Accuracy: {accuracy_score(y_test, y_pred_knn):.4f}\")\n",
    "print(\"\\nClassification Report:\")\n",
    "print(classification_report(y_test, y_pred_knn))"
   ]
  },
  {
   "cell_type": "markdown",
   "id": "96519f49-2ce1-4da5-bee3-d342e842d148",
   "metadata": {},
   "source": [
    "# Decison Tree Model"
   ]
  },
  {
   "cell_type": "code",
   "execution_count": 9,
   "id": "fb404e44-4b86-44d8-9293-54354ca0d3ba",
   "metadata": {},
   "outputs": [
    {
     "name": "stdout",
     "output_type": "stream",
     "text": [
      "Decision Tree Results:\n",
      "Accuracy: 0.7976\n",
      "\n",
      "Classification Report:\n",
      "              precision    recall  f1-score   support\n",
      "\n",
      "           0       0.80      0.79      0.79       400\n",
      "           1       0.80      0.81      0.80       420\n",
      "\n",
      "    accuracy                           0.80       820\n",
      "   macro avg       0.80      0.80      0.80       820\n",
      "weighted avg       0.80      0.80      0.80       820\n",
      "\n"
     ]
    }
   ],
   "source": [
    "from sklearn.tree import DecisionTreeClassifier\n",
    "from sklearn.metrics import accuracy_score, classification_report\n",
    "\n",
    "# Initialize and train the model\n",
    "dt_model = DecisionTreeClassifier(random_state=42)\n",
    "dt_model.fit(X_train_scaled, y_train)\n",
    "\n",
    "# Make predictions\n",
    "y_pred_dt = dt_model.predict(X_test_scaled)\n",
    "\n",
    "# Evaluate the model\n",
    "print(\"Decision Tree Results:\")\n",
    "print(f\"Accuracy: {accuracy_score(y_test, y_pred_dt):.4f}\")\n",
    "print(\"\\nClassification Report:\")\n",
    "print(classification_report(y_test, y_pred_dt))"
   ]
  },
  {
   "cell_type": "markdown",
   "id": "2467f2a1-f4e6-48ae-82cc-9adde0510188",
   "metadata": {},
   "source": [
    "# Support Vector Machine Model"
   ]
  },
  {
   "cell_type": "code",
   "execution_count": 10,
   "id": "dec57370-7128-4f8d-b607-a1cccd7324f2",
   "metadata": {},
   "outputs": [
    {
     "name": "stdout",
     "output_type": "stream",
     "text": [
      "Support Vector Machine Results:\n",
      "Accuracy: 0.8622\n",
      "\n",
      "Classification Report:\n",
      "              precision    recall  f1-score   support\n",
      "\n",
      "           0       0.87      0.84      0.86       400\n",
      "           1       0.86      0.88      0.87       420\n",
      "\n",
      "    accuracy                           0.86       820\n",
      "   macro avg       0.86      0.86      0.86       820\n",
      "weighted avg       0.86      0.86      0.86       820\n",
      "\n"
     ]
    }
   ],
   "source": [
    "from sklearn.svm import SVC\n",
    "from sklearn.metrics import accuracy_score, classification_report\n",
    "\n",
    "# Initialize and train the model\n",
    "svm_model = SVC(kernel='rbf', random_state=42)\n",
    "svm_model.fit(X_train_scaled, y_train)\n",
    "\n",
    "# Make predictions\n",
    "y_pred_svm = svm_model.predict(X_test_scaled)\n",
    "\n",
    "# Evaluate the model\n",
    "print(\"Support Vector Machine Results:\")\n",
    "print(f\"Accuracy: {accuracy_score(y_test, y_pred_svm):.4f}\")\n",
    "print(\"\\nClassification Report:\")\n",
    "print(classification_report(y_test, y_pred_svm))"
   ]
  },
  {
   "cell_type": "markdown",
   "id": "549f95ec-2607-4441-9e1e-fe7b41ea0488",
   "metadata": {},
   "source": [
    "# Random Forest Classifier Model"
   ]
  },
  {
   "cell_type": "code",
   "execution_count": 11,
   "id": "8f6c1084-7abe-4906-88cc-363240ed3660",
   "metadata": {},
   "outputs": [
    {
     "name": "stdout",
     "output_type": "stream",
     "text": [
      "Random Forest Results:\n",
      "Accuracy: 0.8659\n",
      "\n",
      "Classification Report:\n",
      "              precision    recall  f1-score   support\n",
      "\n",
      "           0       0.88      0.83      0.86       400\n",
      "           1       0.85      0.90      0.87       420\n",
      "\n",
      "    accuracy                           0.87       820\n",
      "   macro avg       0.87      0.87      0.87       820\n",
      "weighted avg       0.87      0.87      0.87       820\n",
      "\n"
     ]
    }
   ],
   "source": [
    "from sklearn.ensemble import RandomForestClassifier\n",
    "from sklearn.metrics import accuracy_score, classification_report\n",
    "\n",
    "# Initialize and train the model\n",
    "rf_model = RandomForestClassifier(n_estimators=100, random_state=42)\n",
    "rf_model.fit(X_train_scaled, y_train)\n",
    "\n",
    "# Make predictions\n",
    "y_pred_rf = rf_model.predict(X_test_scaled)\n",
    "\n",
    "# Evaluate the model\n",
    "print(\"Random Forest Results:\")\n",
    "print(f\"Accuracy: {accuracy_score(y_test, y_pred_rf):.4f}\")\n",
    "print(\"\\nClassification Report:\")\n",
    "print(classification_report(y_test, y_pred_rf))"
   ]
  },
  {
   "cell_type": "markdown",
   "id": "b8aead5e-3f97-4151-98b6-eff1267530cf",
   "metadata": {},
   "source": [
    "# Gradient Boosting (XG Boost)"
   ]
  },
  {
   "cell_type": "code",
   "execution_count": 12,
   "id": "bffec94c-4300-4e54-84ff-303aec87cd8e",
   "metadata": {},
   "outputs": [
    {
     "name": "stdout",
     "output_type": "stream",
     "text": [
      "XGBoost Results:\n",
      "Accuracy: 0.8634\n",
      "\n",
      "Classification Report:\n",
      "              precision    recall  f1-score   support\n",
      "\n",
      "           0       0.88      0.84      0.86       400\n",
      "           1       0.85      0.89      0.87       420\n",
      "\n",
      "    accuracy                           0.86       820\n",
      "   macro avg       0.86      0.86      0.86       820\n",
      "weighted avg       0.86      0.86      0.86       820\n",
      "\n"
     ]
    }
   ],
   "source": [
    "from xgboost import XGBClassifier\n",
    "from sklearn.metrics import accuracy_score, classification_report\n",
    "\n",
    "# Initialize and train the model\n",
    "xgb_model = XGBClassifier(use_label_encoder=False, eval_metric='logloss', random_state=42)\n",
    "xgb_model.fit(X_train_scaled, y_train)\n",
    "\n",
    "# Make predictions\n",
    "y_pred_xgb = xgb_model.predict(X_test_scaled)\n",
    "\n",
    "# Evaluate the model\n",
    "print(\"XGBoost Results:\")\n",
    "print(f\"Accuracy: {accuracy_score(y_test, y_pred_xgb):.4f}\")\n",
    "print(\"\\nClassification Report:\")\n",
    "print(classification_report(y_test, y_pred_xgb))"
   ]
  },
  {
   "cell_type": "markdown",
   "id": "c3e749b1-8b0e-46a8-88f4-e08ec9603a09",
   "metadata": {},
   "source": [
    "# Neural Network"
   ]
  },
  {
   "cell_type": "code",
   "execution_count": 15,
   "id": "a63bb8d6-2968-4f1a-9d90-13b6e29ff965",
   "metadata": {},
   "outputs": [
    {
     "name": "stderr",
     "output_type": "stream",
     "text": [
      "WARNING:absl:At this time, the v2.11+ optimizer `tf.keras.optimizers.Adam` runs slowly on M1/M2 Macs, please use the legacy Keras optimizer instead, located at `tf.keras.optimizers.legacy.Adam`.\n",
      "WARNING:absl:There is a known slowdown when using v2.11+ Keras optimizers on M1/M2 Macs. Falling back to the legacy Keras optimizer, i.e., `tf.keras.optimizers.legacy.Adam`.\n"
     ]
    },
    {
     "name": "stdout",
     "output_type": "stream",
     "text": [
      "Epoch 1/100\n",
      "6/6 [==============================] - 0s 18ms/step - loss: 0.7057 - accuracy: 0.5183 - val_loss: 0.7105 - val_accuracy: 0.3902\n",
      "Epoch 2/100\n",
      "6/6 [==============================] - 0s 4ms/step - loss: 0.6763 - accuracy: 0.5122 - val_loss: 0.6799 - val_accuracy: 0.4146\n",
      "Epoch 3/100\n",
      "6/6 [==============================] - 0s 3ms/step - loss: 0.6635 - accuracy: 0.5427 - val_loss: 0.6583 - val_accuracy: 0.4146\n",
      "Epoch 4/100\n",
      "6/6 [==============================] - 0s 3ms/step - loss: 0.6419 - accuracy: 0.5122 - val_loss: 0.6398 - val_accuracy: 0.4634\n",
      "Epoch 5/100\n",
      "6/6 [==============================] - 0s 3ms/step - loss: 0.6315 - accuracy: 0.5183 - val_loss: 0.6241 - val_accuracy: 0.5122\n",
      "Epoch 6/100\n",
      "6/6 [==============================] - 0s 4ms/step - loss: 0.6036 - accuracy: 0.6402 - val_loss: 0.6088 - val_accuracy: 0.6098\n",
      "Epoch 7/100\n",
      "6/6 [==============================] - 0s 4ms/step - loss: 0.5979 - accuracy: 0.6768 - val_loss: 0.5938 - val_accuracy: 0.6829\n",
      "Epoch 8/100\n",
      "6/6 [==============================] - 0s 4ms/step - loss: 0.5860 - accuracy: 0.6402 - val_loss: 0.5793 - val_accuracy: 0.6829\n",
      "Epoch 9/100\n",
      "6/6 [==============================] - 0s 4ms/step - loss: 0.5508 - accuracy: 0.7378 - val_loss: 0.5625 - val_accuracy: 0.7561\n",
      "Epoch 10/100\n",
      "6/6 [==============================] - 0s 4ms/step - loss: 0.5422 - accuracy: 0.7317 - val_loss: 0.5427 - val_accuracy: 0.7561\n",
      "Epoch 11/100\n",
      "6/6 [==============================] - 0s 4ms/step - loss: 0.5155 - accuracy: 0.7622 - val_loss: 0.5262 - val_accuracy: 0.8049\n",
      "Epoch 12/100\n",
      "6/6 [==============================] - 0s 4ms/step - loss: 0.4977 - accuracy: 0.7439 - val_loss: 0.5085 - val_accuracy: 0.8049\n",
      "Epoch 13/100\n",
      "6/6 [==============================] - 0s 4ms/step - loss: 0.5003 - accuracy: 0.7927 - val_loss: 0.4893 - val_accuracy: 0.8049\n",
      "Epoch 14/100\n",
      "6/6 [==============================] - 0s 4ms/step - loss: 0.4908 - accuracy: 0.7561 - val_loss: 0.4701 - val_accuracy: 0.8049\n",
      "Epoch 15/100\n",
      "6/6 [==============================] - 0s 4ms/step - loss: 0.4931 - accuracy: 0.7744 - val_loss: 0.4546 - val_accuracy: 0.8049\n",
      "Epoch 16/100\n",
      "6/6 [==============================] - 0s 4ms/step - loss: 0.4443 - accuracy: 0.7988 - val_loss: 0.4340 - val_accuracy: 0.8537\n",
      "Epoch 17/100\n",
      "6/6 [==============================] - 0s 4ms/step - loss: 0.4508 - accuracy: 0.8049 - val_loss: 0.4183 - val_accuracy: 0.8293\n",
      "Epoch 18/100\n",
      "6/6 [==============================] - 0s 4ms/step - loss: 0.4330 - accuracy: 0.8110 - val_loss: 0.4125 - val_accuracy: 0.8537\n",
      "Epoch 19/100\n",
      "6/6 [==============================] - 0s 4ms/step - loss: 0.3982 - accuracy: 0.8537 - val_loss: 0.4102 - val_accuracy: 0.8293\n",
      "Epoch 20/100\n",
      "6/6 [==============================] - 0s 4ms/step - loss: 0.3964 - accuracy: 0.8354 - val_loss: 0.4091 - val_accuracy: 0.8293\n",
      "Epoch 21/100\n",
      "6/6 [==============================] - 0s 4ms/step - loss: 0.3648 - accuracy: 0.8415 - val_loss: 0.4096 - val_accuracy: 0.8049\n",
      "Epoch 22/100\n",
      "6/6 [==============================] - 0s 4ms/step - loss: 0.3785 - accuracy: 0.8476 - val_loss: 0.3989 - val_accuracy: 0.8049\n",
      "Epoch 23/100\n",
      "6/6 [==============================] - 0s 4ms/step - loss: 0.3821 - accuracy: 0.8537 - val_loss: 0.3880 - val_accuracy: 0.8049\n",
      "Epoch 24/100\n",
      "6/6 [==============================] - 0s 4ms/step - loss: 0.3686 - accuracy: 0.8598 - val_loss: 0.3793 - val_accuracy: 0.8293\n",
      "Epoch 25/100\n",
      "6/6 [==============================] - 0s 4ms/step - loss: 0.3390 - accuracy: 0.8598 - val_loss: 0.3824 - val_accuracy: 0.8049\n",
      "Epoch 26/100\n",
      "6/6 [==============================] - 0s 4ms/step - loss: 0.3615 - accuracy: 0.8476 - val_loss: 0.3853 - val_accuracy: 0.8293\n",
      "Epoch 27/100\n",
      "6/6 [==============================] - 0s 4ms/step - loss: 0.3625 - accuracy: 0.8415 - val_loss: 0.3837 - val_accuracy: 0.8293\n",
      "Epoch 28/100\n",
      "6/6 [==============================] - 0s 4ms/step - loss: 0.3115 - accuracy: 0.8720 - val_loss: 0.3853 - val_accuracy: 0.8293\n",
      "Epoch 29/100\n",
      "6/6 [==============================] - 0s 4ms/step - loss: 0.3157 - accuracy: 0.8902 - val_loss: 0.3894 - val_accuracy: 0.8780\n",
      "Epoch 30/100\n",
      "6/6 [==============================] - 0s 4ms/step - loss: 0.3066 - accuracy: 0.8659 - val_loss: 0.3961 - val_accuracy: 0.8537\n",
      "Epoch 31/100\n",
      "6/6 [==============================] - 0s 4ms/step - loss: 0.3542 - accuracy: 0.8780 - val_loss: 0.3942 - val_accuracy: 0.8537\n",
      "Epoch 32/100\n",
      "6/6 [==============================] - 0s 4ms/step - loss: 0.3414 - accuracy: 0.8415 - val_loss: 0.3899 - val_accuracy: 0.8537\n",
      "Epoch 33/100\n",
      "6/6 [==============================] - 0s 4ms/step - loss: 0.3341 - accuracy: 0.8780 - val_loss: 0.3745 - val_accuracy: 0.8780\n",
      "Epoch 34/100\n",
      "6/6 [==============================] - 0s 4ms/step - loss: 0.3019 - accuracy: 0.8780 - val_loss: 0.3553 - val_accuracy: 0.8780\n",
      "Epoch 35/100\n",
      "6/6 [==============================] - 0s 4ms/step - loss: 0.2946 - accuracy: 0.9085 - val_loss: 0.3462 - val_accuracy: 0.9024\n",
      "Epoch 36/100\n",
      "6/6 [==============================] - 0s 4ms/step - loss: 0.2874 - accuracy: 0.8659 - val_loss: 0.3465 - val_accuracy: 0.9024\n",
      "Epoch 37/100\n",
      "6/6 [==============================] - 0s 4ms/step - loss: 0.3005 - accuracy: 0.8841 - val_loss: 0.3509 - val_accuracy: 0.8780\n",
      "Epoch 38/100\n",
      "6/6 [==============================] - 0s 4ms/step - loss: 0.2339 - accuracy: 0.9268 - val_loss: 0.3554 - val_accuracy: 0.8780\n",
      "Epoch 39/100\n",
      "6/6 [==============================] - 0s 4ms/step - loss: 0.2660 - accuracy: 0.9085 - val_loss: 0.3630 - val_accuracy: 0.8780\n",
      "Epoch 40/100\n",
      "6/6 [==============================] - 0s 4ms/step - loss: 0.2748 - accuracy: 0.8780 - val_loss: 0.3785 - val_accuracy: 0.8780\n",
      "Epoch 41/100\n",
      "6/6 [==============================] - 0s 4ms/step - loss: 0.2672 - accuracy: 0.9024 - val_loss: 0.3804 - val_accuracy: 0.8780\n",
      "Epoch 42/100\n",
      "6/6 [==============================] - 0s 4ms/step - loss: 0.2779 - accuracy: 0.8902 - val_loss: 0.3887 - val_accuracy: 0.8780\n",
      "Epoch 43/100\n",
      "6/6 [==============================] - 0s 4ms/step - loss: 0.2165 - accuracy: 0.9146 - val_loss: 0.3969 - val_accuracy: 0.8780\n",
      "Epoch 44/100\n",
      "6/6 [==============================] - 0s 4ms/step - loss: 0.2798 - accuracy: 0.9085 - val_loss: 0.4063 - val_accuracy: 0.8293\n",
      "Epoch 45/100\n",
      "6/6 [==============================] - 0s 4ms/step - loss: 0.2946 - accuracy: 0.9024 - val_loss: 0.4010 - val_accuracy: 0.8537\n",
      "26/26 [==============================] - 0s 436us/step\n",
      "Neural Network Results:\n",
      "Accuracy: 0.8585\n",
      "\n",
      "Classification Report:\n",
      "              precision    recall  f1-score   support\n",
      "\n",
      "           0       0.87      0.83      0.85       400\n",
      "           1       0.85      0.88      0.86       420\n",
      "\n",
      "    accuracy                           0.86       820\n",
      "   macro avg       0.86      0.86      0.86       820\n",
      "weighted avg       0.86      0.86      0.86       820\n",
      "\n"
     ]
    },
    {
     "data": {
      "image/png": "[encoded data removed]",
      "text/plain": [
       "<Figure size 1200x400 with 2 Axes>"
      ]
     },
     "metadata": {},
     "output_type": "display_data"
    }
   ],
   "source": [
    "import tensorflow as tf\n",
    "from tensorflow.keras.models import Sequential\n",
    "from tensorflow.keras.layers import Dense, Dropout\n",
    "from tensorflow.keras.optimizers import Adam\n",
    "from tensorflow.keras.callbacks import EarlyStopping\n",
    "from sklearn.metrics import accuracy_score, classification_report\n",
    "import matplotlib.pyplot as plt\n",
    "\n",
    "# Define the model architecture\n",
    "model = Sequential([\n",
    "    Dense(64, activation='relu', input_shape=(X_train.shape[1],)),\n",
    "    Dropout(0.3),\n",
    "    Dense(32, activation='relu'),\n",
    "    Dropout(0.3),\n",
    "    Dense(16, activation='relu'),\n",
    "    Dense(1, activation='sigmoid')\n",
    "])\n",
    "\n",
    "# Compile the model\n",
    "model.compile(optimizer=Adam(learning_rate=0.001),\n",
    "              loss='binary_crossentropy',\n",
    "              metrics=['accuracy'])\n",
    "\n",
    "# Define early stopping\n",
    "early_stopping = EarlyStopping(monitor='val_loss', patience=10, restore_best_weights=True)\n",
    "\n",
    "# Train the model\n",
    "history = model.fit(X_train_scaled, y_train,\n",
    "                    epochs=100,\n",
    "                    batch_size=32,\n",
    "                    validation_split=0.2,\n",
    "                    callbacks=[early_stopping],\n",
    "                    verbose=1)\n",
    "\n",
    "# Evaluate the model\n",
    "y_pred_proba = model.predict(X_test_scaled)\n",
    "y_pred_nn = (y_pred_proba > 0.5).astype(int)\n",
    "\n",
    "print(\"Neural Network Results:\")\n",
    "print(f\"Accuracy: {accuracy_score(y_test, y_pred_nn):.4f}\")\n",
    "print(\"\\nClassification Report:\")\n",
    "print(classification_report(y_test, y_pred_nn))\n",
    "\n",
    "# Plot training history\n",
    "plt.figure(figsize=(12, 4))\n",
    "\n",
    "plt.subplot(1, 2, 1)\n",
    "plt.plot(history.history['loss'], label='Training Loss')\n",
    "plt.plot(history.history['val_loss'], label='Validation Loss')\n",
    "plt.title('Model Loss')\n",
    "plt.xlabel('Epoch')\n",
    "plt.ylabel('Loss')\n",
    "plt.legend()\n",
    "\n",
    "plt.subplot(1, 2, 2)\n",
    "plt.plot(history.history['accuracy'], label='Training Accuracy')\n",
    "plt.plot(history.history['val_accuracy'], label='Validation Accuracy')\n",
    "plt.title('Model Accuracy')\n",
    "plt.xlabel('Epoch')\n",
    "plt.ylabel('Accuracy')\n",
    "plt.legend()\n",
    "\n",
    "plt.tight_layout()\n",
    "plt.show()\n"
   ]
  },
  {
   "cell_type": "markdown",
   "id": "028154b3-b3a7-40f2-8f01-b4e8d78ba24f",
   "metadata": {},
   "source": [
    "# Ensembling Different Models\n",
    "### This model aims to predict the presence of heart disease by ensembling various machine learning algorithms. The models used for prediction include:\n",
    "- Random forest\n",
    "- XG Boost\n",
    "- Support Vector Machine"
   ]
  },
  {
   "cell_type": "code",
   "execution_count": 16,
   "id": "9dced1ed-f2dd-41b1-9edc-15d730301600",
   "metadata": {},
   "outputs": [
    {
     "name": "stdout",
     "output_type": "stream",
     "text": [
      "Voting Classifier Results:\n",
      "Accuracy: 0.8707\n",
      "\n",
      "Classification Report:\n",
      "              precision    recall  f1-score   support\n",
      "\n",
      "           0       0.88      0.85      0.87       400\n",
      "           1       0.86      0.89      0.88       420\n",
      "\n",
      "    accuracy                           0.87       820\n",
      "   macro avg       0.87      0.87      0.87       820\n",
      "weighted avg       0.87      0.87      0.87       820\n",
      "\n"
     ]
    }
   ],
   "source": [
    "from sklearn.ensemble import VotingClassifier\n",
    "from sklearn.metrics import accuracy_score, classification_report\n",
    "\n",
    "# Initialize individual models\n",
    "rf_model = RandomForestClassifier(n_estimators=100, random_state=42)\n",
    "xgb_model = XGBClassifier(use_label_encoder=False, eval_metric='logloss', random_state=42)\n",
    "svm_model = SVC(kernel='rbf', probability=True, random_state=42)\n",
    "\n",
    "# Create and train the Voting Classifier\n",
    "voting_model = VotingClassifier(\n",
    "    estimators=[('rf', rf_model), ('xgb', xgb_model), ('svm', svm_model)],\n",
    "    voting='soft'\n",
    ")\n",
    "voting_model.fit(X_train_scaled, y_train)\n",
    "\n",
    "# Make predictions\n",
    "y_pred_voting = voting_model.predict(X_test_scaled)\n",
    "\n",
    "# Evaluate the model\n",
    "print(\"Voting Classifier Results:\")\n",
    "print(f\"Accuracy: {accuracy_score(y_test, y_pred_voting):.4f}\")\n",
    "print(\"\\nClassification Report:\")\n",
    "print(classification_report(y_test, y_pred_voting))"
   ]
  },
  {
   "cell_type": "markdown",
   "id": "3610941d-0f67-4edd-bc09-969cd0e54552",
   "metadata": {},
   "source": []
  },
  {
   "cell_type": "code",
   "execution_count": 17,
   "id": "83ebd855-ee9d-41fd-895a-c1ed6cd4c9f9",
   "metadata": {},
   "outputs": [
    {
     "name": "stdout",
     "output_type": "stream",
     "text": [
      "Stacking Classifier Results:\n",
      "Accuracy: 0.8476\n",
      "\n",
      "Classification Report:\n",
      "              precision    recall  f1-score   support\n",
      "\n",
      "           0       0.84      0.84      0.84       400\n",
      "           1       0.85      0.85      0.85       420\n",
      "\n",
      "    accuracy                           0.85       820\n",
      "   macro avg       0.85      0.85      0.85       820\n",
      "weighted avg       0.85      0.85      0.85       820\n",
      "\n"
     ]
    }
   ],
   "source": [
    "from sklearn.ensemble import StackingClassifier\n",
    "from sklearn.linear_model import LogisticRegression\n",
    "from sklearn.metrics import accuracy_score, classification_report\n",
    "\n",
    "# Initialize base models\n",
    "knn_model = KNeighborsClassifier(n_neighbors=5)\n",
    "dt_model = DecisionTreeClassifier(random_state=42)\n",
    "svm_model = SVC(kernel='rbf', probability=True, random_state=42)\n",
    "\n",
    "# Initialize meta-classifier\n",
    "meta_model = LogisticRegression()\n",
    "\n",
    "# Create and train the Stacking Classifier\n",
    "stacking_model = StackingClassifier(\n",
    "    estimators=[('knn', knn_model), ('dt', dt_model), ('svm', svm_model)],\n",
    "    final_estimator=meta_model,\n",
    "    cv=5\n",
    ")\n",
    "stacking_model.fit(X_train_scaled, y_train)\n",
    "\n",
    "# Make predictions\n",
    "y_pred_stacking = stacking_model.predict(X_test_scaled)\n",
    "\n",
    "# Evaluate the model\n",
    "print(\"Stacking Classifier Results:\")\n",
    "print(f\"Accuracy: {accuracy_score(y_test, y_pred_stacking):.4f}\")\n",
    "print(\"\\nClassification Report:\")\n",
    "print(classification_report(y_test, y_pred_stacking))"
   ]
  },
  {
   "cell_type": "code",
   "execution_count": null,
   "id": "db9be2e6-9a80-4304-b377-aad226e7f32e",
   "metadata": {},
   "outputs": [],
   "source": []
  }
 ],
 "metadata": {
  "kernelspec": {
   "display_name": "Python 3 (ipykernel)",
   "language": "python",
   "name": "python3"
  },
  "language_info": {
   "codemirror_mode": {
    "name": "ipython",
    "version": 3
   },
   "file_extension": ".py",
   "mimetype": "text/x-python",
   "name": "python",
   "nbconvert_exporter": "python",
   "pygments_lexer": "ipython3",
   "version": "3.11.0"
  }
 },
 "nbformat": 4,
 "nbformat_minor": 5
}
